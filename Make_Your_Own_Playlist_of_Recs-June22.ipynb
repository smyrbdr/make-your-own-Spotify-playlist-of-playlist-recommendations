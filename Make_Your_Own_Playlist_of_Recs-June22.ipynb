{
 "cells": [
  {
   "cell_type": "code",
   "execution_count": 1,
   "metadata": {},
   "outputs": [
    {
     "name": "stdout",
     "output_type": "stream",
     "text": [
      "Collecting Spotipy\n",
      "  Downloading spotipy-2.20.0-py3-none-any.whl (27 kB)\n",
      "Requirement already satisfied: six>=1.15.0 in c:\\programdata\\anaconda3\\lib\\site-packages (from Spotipy) (1.16.0)\n",
      "Requirement already satisfied: requests>=2.25.0 in c:\\programdata\\anaconda3\\lib\\site-packages (from Spotipy) (2.27.1)\n",
      "Collecting redis>=3.5.3\n",
      "  Downloading redis-4.3.3-py3-none-any.whl (244 kB)\n",
      "Requirement already satisfied: urllib3>=1.26.0 in c:\\programdata\\anaconda3\\lib\\site-packages (from Spotipy) (1.26.9)\n",
      "Collecting async-timeout>=4.0.2\n",
      "  Downloading async_timeout-4.0.2-py3-none-any.whl (5.8 kB)\n",
      "Collecting deprecated>=1.2.3\n",
      "  Downloading Deprecated-1.2.13-py2.py3-none-any.whl (9.6 kB)\n",
      "Requirement already satisfied: packaging>=20.4 in c:\\programdata\\anaconda3\\lib\\site-packages (from redis>=3.5.3->Spotipy) (21.3)\n",
      "Requirement already satisfied: wrapt<2,>=1.10 in c:\\programdata\\anaconda3\\lib\\site-packages (from deprecated>=1.2.3->redis>=3.5.3->Spotipy) (1.12.1)\n",
      "Requirement already satisfied: pyparsing!=3.0.5,>=2.0.2 in c:\\programdata\\anaconda3\\lib\\site-packages (from packaging>=20.4->redis>=3.5.3->Spotipy) (3.0.4)\n",
      "Requirement already satisfied: certifi>=2017.4.17 in c:\\programdata\\anaconda3\\lib\\site-packages (from requests>=2.25.0->Spotipy) (2021.10.8)\n",
      "Requirement already satisfied: idna<4,>=2.5 in c:\\programdata\\anaconda3\\lib\\site-packages (from requests>=2.25.0->Spotipy) (3.3)\n",
      "Requirement already satisfied: charset-normalizer~=2.0.0 in c:\\programdata\\anaconda3\\lib\\site-packages (from requests>=2.25.0->Spotipy) (2.0.4)\n",
      "Installing collected packages: deprecated, async-timeout, redis, Spotipy\n",
      "  Attempting uninstall: async-timeout\n",
      "    Found existing installation: async-timeout 4.0.1\n",
      "    Uninstalling async-timeout-4.0.1:\n",
      "      Successfully uninstalled async-timeout-4.0.1\n",
      "Successfully installed Spotipy-2.20.0 async-timeout-4.0.2 deprecated-1.2.13 redis-4.3.3\n"
     ]
    }
   ],
   "source": [
    "# Creates a playlist of #(playlist length)-recommended tracks per track in a playlist\n",
    "\n",
    "# install Spotipy first\n",
    "!pip install Spotipy"
   ]
  },
  {
   "cell_type": "code",
   "execution_count": 3,
   "metadata": {},
   "outputs": [
    {
     "name": "stdout",
     "output_type": "stream",
     "text": [
      "Enter the URL you were redirected to: https://developer.spotify.com/dashboard/?code=AQDiZ1SzdtON4pOqUFydVLJBlVXhWn9CvUvXIbP8hW1wgkG8O31R455xpcc1S3cJGZJClQd89i7ndvO5N3Wj0-pZWLC0dZ_LhHLeWo3jXw7S_dU878B28X4pYei22ItVQx9_xqY7HJA7_MRHHx2iLu7aoP7BjP_BEgEa41FNwJkJtX5K5YhsjaBPD4O1FwtPCPCGb0EFVtoE79RIMX-6qCdXlSJpqR76ffRfdC2-BvPsUz7jzBFqzZmAiqgqw9IagaHZc_UYxs26PyZw_Tu8Fd3eSxQj71UqfTDjBM1N55qIKFObo0ueJLXyixpssIeQMOMvJfIgMYCpkZY\n"
     ]
    }
   ],
   "source": [
    "import spotipy\n",
    "from spotipy.oauth2 import SpotifyClientCredentials\n",
    "import spotipy.util as util\n",
    "\n",
    "\n",
    "cid =' ' # Client ID; copy this from your app created on beta.developer.spotify.com\n",
    "secret = ' ' # Client Secret; copy this from your app\n",
    "username = 'smyrbdr' # Your Spotify username\n",
    "\n",
    "#for avaliable scopes see https://developer.spotify.com/web-api/using-scopes/\n",
    "scope = 'user-library-read playlist-modify-public playlist-read-private'\n",
    "\n",
    "redirect_uri='https://developer.spotify.com/dashboard/applications/f0637eedb19447a295f755638eb6de12'\n",
    "\n",
    "client_credentials_manager = SpotifyClientCredentials(client_id=cid, client_secret=secret) \n",
    "\n",
    "sp = spotipy.Spotify(client_credentials_manager=client_credentials_manager)\n",
    "\n",
    "token = util.prompt_for_user_token(username, scope, cid, secret, redirect_uri)\n",
    "\n",
    "if token:\n",
    "    sp = spotipy.Spotify(auth=token)\n",
    "else:\n",
    "    print(\"Can't get token for\", username)"
   ]
  },
  {
   "cell_type": "code",
   "execution_count": 4,
   "metadata": {},
   "outputs": [],
   "source": [
    "#Create a dataframe of your playlist including tracks' names and audio features\n",
    "import pandas as pd\n",
    "\n",
    "sourcePlaylistID = '53JCW4rDOwPtEmaWDgK4hn'\n",
    "sourcePlaylist = sp.user_playlist(username, sourcePlaylistID);\n",
    "tracks = sourcePlaylist[\"tracks\"];\n",
    "songs = tracks[\"items\"];\n",
    "\n",
    "track_ids = []\n",
    "track_names = []\n",
    "\n",
    "for i in range(0, len(songs)):\n",
    "    if songs[i]['track']['id'] != None: # Removes the local tracks in your playlist if there is any\n",
    "        track_ids.append(songs[i]['track']['id'])\n",
    "        track_names.append(songs[i]['track']['name'])\n",
    "\n",
    "features = []\n",
    "for i in range(0,len(track_ids)):\n",
    "    audio_features = sp.audio_features(track_ids[i])\n",
    "    for track in audio_features:\n",
    "        features.append(track)\n",
    "        \n",
    "playlist_df = pd.DataFrame(features, index = track_names)"
   ]
  },
  {
   "cell_type": "code",
   "execution_count": 5,
   "metadata": {
    "scrolled": true
   },
   "outputs": [
    {
     "data": {
      "text/html": [
       "<div>\n",
       "<style scoped>\n",
       "    .dataframe tbody tr th:only-of-type {\n",
       "        vertical-align: middle;\n",
       "    }\n",
       "\n",
       "    .dataframe tbody tr th {\n",
       "        vertical-align: top;\n",
       "    }\n",
       "\n",
       "    .dataframe thead th {\n",
       "        text-align: right;\n",
       "    }\n",
       "</style>\n",
       "<table border=\"1\" class=\"dataframe\">\n",
       "  <thead>\n",
       "    <tr style=\"text-align: right;\">\n",
       "      <th></th>\n",
       "      <th>danceability</th>\n",
       "      <th>energy</th>\n",
       "      <th>key</th>\n",
       "      <th>loudness</th>\n",
       "      <th>mode</th>\n",
       "      <th>speechiness</th>\n",
       "      <th>acousticness</th>\n",
       "      <th>instrumentalness</th>\n",
       "      <th>liveness</th>\n",
       "      <th>valence</th>\n",
       "      <th>tempo</th>\n",
       "      <th>type</th>\n",
       "      <th>id</th>\n",
       "      <th>uri</th>\n",
       "      <th>track_href</th>\n",
       "      <th>analysis_url</th>\n",
       "      <th>duration_ms</th>\n",
       "      <th>time_signature</th>\n",
       "    </tr>\n",
       "  </thead>\n",
       "  <tbody>\n",
       "    <tr>\n",
       "      <th>Beni Sen İnandır</th>\n",
       "      <td>0.825</td>\n",
       "      <td>0.400</td>\n",
       "      <td>0</td>\n",
       "      <td>-12.626</td>\n",
       "      <td>1</td>\n",
       "      <td>0.0456</td>\n",
       "      <td>0.490</td>\n",
       "      <td>0.000000</td>\n",
       "      <td>0.0981</td>\n",
       "      <td>0.838</td>\n",
       "      <td>106.000</td>\n",
       "      <td>audio_features</td>\n",
       "      <td>1rY4UYyZ3PcuYgWIddkcnL</td>\n",
       "      <td>spotify:track:1rY4UYyZ3PcuYgWIddkcnL</td>\n",
       "      <td>https://api.spotify.com/v1/tracks/1rY4UYyZ3Pcu...</td>\n",
       "      <td>https://api.spotify.com/v1/audio-analysis/1rY4...</td>\n",
       "      <td>224717</td>\n",
       "      <td>4</td>\n",
       "    </tr>\n",
       "    <tr>\n",
       "      <th>Kendime Yalan Söyledim</th>\n",
       "      <td>0.690</td>\n",
       "      <td>0.731</td>\n",
       "      <td>11</td>\n",
       "      <td>-5.770</td>\n",
       "      <td>0</td>\n",
       "      <td>0.0317</td>\n",
       "      <td>0.210</td>\n",
       "      <td>0.000000</td>\n",
       "      <td>0.0611</td>\n",
       "      <td>0.580</td>\n",
       "      <td>126.992</td>\n",
       "      <td>audio_features</td>\n",
       "      <td>5hYb9RIvqvk8J6mjMNL4pc</td>\n",
       "      <td>spotify:track:5hYb9RIvqvk8J6mjMNL4pc</td>\n",
       "      <td>https://api.spotify.com/v1/tracks/5hYb9RIvqvk8...</td>\n",
       "      <td>https://api.spotify.com/v1/audio-analysis/5hYb...</td>\n",
       "      <td>267080</td>\n",
       "      <td>4</td>\n",
       "    </tr>\n",
       "    <tr>\n",
       "      <th>Ve Ben</th>\n",
       "      <td>0.399</td>\n",
       "      <td>0.557</td>\n",
       "      <td>8</td>\n",
       "      <td>-6.203</td>\n",
       "      <td>0</td>\n",
       "      <td>0.0406</td>\n",
       "      <td>0.595</td>\n",
       "      <td>0.000002</td>\n",
       "      <td>0.1450</td>\n",
       "      <td>0.284</td>\n",
       "      <td>175.944</td>\n",
       "      <td>audio_features</td>\n",
       "      <td>7GT8FbMFCvo0rcd9i4yeCO</td>\n",
       "      <td>spotify:track:7GT8FbMFCvo0rcd9i4yeCO</td>\n",
       "      <td>https://api.spotify.com/v1/tracks/7GT8FbMFCvo0...</td>\n",
       "      <td>https://api.spotify.com/v1/audio-analysis/7GT8...</td>\n",
       "      <td>245195</td>\n",
       "      <td>4</td>\n",
       "    </tr>\n",
       "    <tr>\n",
       "      <th>Ölsem Yeridir</th>\n",
       "      <td>0.604</td>\n",
       "      <td>0.519</td>\n",
       "      <td>2</td>\n",
       "      <td>-6.501</td>\n",
       "      <td>0</td>\n",
       "      <td>0.0322</td>\n",
       "      <td>0.372</td>\n",
       "      <td>0.097200</td>\n",
       "      <td>0.0711</td>\n",
       "      <td>0.108</td>\n",
       "      <td>139.992</td>\n",
       "      <td>audio_features</td>\n",
       "      <td>7zn6VQuPR6aCLPRcZAA89R</td>\n",
       "      <td>spotify:track:7zn6VQuPR6aCLPRcZAA89R</td>\n",
       "      <td>https://api.spotify.com/v1/tracks/7zn6VQuPR6aC...</td>\n",
       "      <td>https://api.spotify.com/v1/audio-analysis/7zn6...</td>\n",
       "      <td>232133</td>\n",
       "      <td>4</td>\n",
       "    </tr>\n",
       "    <tr>\n",
       "      <th>Yokluğunda</th>\n",
       "      <td>0.524</td>\n",
       "      <td>0.487</td>\n",
       "      <td>9</td>\n",
       "      <td>-9.851</td>\n",
       "      <td>0</td>\n",
       "      <td>0.0365</td>\n",
       "      <td>0.561</td>\n",
       "      <td>0.000001</td>\n",
       "      <td>0.1710</td>\n",
       "      <td>0.183</td>\n",
       "      <td>139.969</td>\n",
       "      <td>audio_features</td>\n",
       "      <td>65lvjeOHd1ZDJKtRpB0c57</td>\n",
       "      <td>spotify:track:65lvjeOHd1ZDJKtRpB0c57</td>\n",
       "      <td>https://api.spotify.com/v1/tracks/65lvjeOHd1ZD...</td>\n",
       "      <td>https://api.spotify.com/v1/audio-analysis/65lv...</td>\n",
       "      <td>250961</td>\n",
       "      <td>4</td>\n",
       "    </tr>\n",
       "  </tbody>\n",
       "</table>\n",
       "</div>"
      ],
      "text/plain": [
       "                        danceability  energy  key  loudness  mode  \\\n",
       "Beni Sen İnandır               0.825   0.400    0   -12.626     1   \n",
       "Kendime Yalan Söyledim         0.690   0.731   11    -5.770     0   \n",
       "Ve Ben                         0.399   0.557    8    -6.203     0   \n",
       "Ölsem Yeridir                  0.604   0.519    2    -6.501     0   \n",
       "Yokluğunda                     0.524   0.487    9    -9.851     0   \n",
       "\n",
       "                        speechiness  acousticness  instrumentalness  liveness  \\\n",
       "Beni Sen İnandır             0.0456         0.490          0.000000    0.0981   \n",
       "Kendime Yalan Söyledim       0.0317         0.210          0.000000    0.0611   \n",
       "Ve Ben                       0.0406         0.595          0.000002    0.1450   \n",
       "Ölsem Yeridir                0.0322         0.372          0.097200    0.0711   \n",
       "Yokluğunda                   0.0365         0.561          0.000001    0.1710   \n",
       "\n",
       "                        valence    tempo            type  \\\n",
       "Beni Sen İnandır          0.838  106.000  audio_features   \n",
       "Kendime Yalan Söyledim    0.580  126.992  audio_features   \n",
       "Ve Ben                    0.284  175.944  audio_features   \n",
       "Ölsem Yeridir             0.108  139.992  audio_features   \n",
       "Yokluğunda                0.183  139.969  audio_features   \n",
       "\n",
       "                                            id  \\\n",
       "Beni Sen İnandır        1rY4UYyZ3PcuYgWIddkcnL   \n",
       "Kendime Yalan Söyledim  5hYb9RIvqvk8J6mjMNL4pc   \n",
       "Ve Ben                  7GT8FbMFCvo0rcd9i4yeCO   \n",
       "Ölsem Yeridir           7zn6VQuPR6aCLPRcZAA89R   \n",
       "Yokluğunda              65lvjeOHd1ZDJKtRpB0c57   \n",
       "\n",
       "                                                         uri  \\\n",
       "Beni Sen İnandır        spotify:track:1rY4UYyZ3PcuYgWIddkcnL   \n",
       "Kendime Yalan Söyledim  spotify:track:5hYb9RIvqvk8J6mjMNL4pc   \n",
       "Ve Ben                  spotify:track:7GT8FbMFCvo0rcd9i4yeCO   \n",
       "Ölsem Yeridir           spotify:track:7zn6VQuPR6aCLPRcZAA89R   \n",
       "Yokluğunda              spotify:track:65lvjeOHd1ZDJKtRpB0c57   \n",
       "\n",
       "                                                               track_href  \\\n",
       "Beni Sen İnandır        https://api.spotify.com/v1/tracks/1rY4UYyZ3Pcu...   \n",
       "Kendime Yalan Söyledim  https://api.spotify.com/v1/tracks/5hYb9RIvqvk8...   \n",
       "Ve Ben                  https://api.spotify.com/v1/tracks/7GT8FbMFCvo0...   \n",
       "Ölsem Yeridir           https://api.spotify.com/v1/tracks/7zn6VQuPR6aC...   \n",
       "Yokluğunda              https://api.spotify.com/v1/tracks/65lvjeOHd1ZD...   \n",
       "\n",
       "                                                             analysis_url  \\\n",
       "Beni Sen İnandır        https://api.spotify.com/v1/audio-analysis/1rY4...   \n",
       "Kendime Yalan Söyledim  https://api.spotify.com/v1/audio-analysis/5hYb...   \n",
       "Ve Ben                  https://api.spotify.com/v1/audio-analysis/7GT8...   \n",
       "Ölsem Yeridir           https://api.spotify.com/v1/audio-analysis/7zn6...   \n",
       "Yokluğunda              https://api.spotify.com/v1/audio-analysis/65lv...   \n",
       "\n",
       "                        duration_ms  time_signature  \n",
       "Beni Sen İnandır             224717               4  \n",
       "Kendime Yalan Söyledim       267080               4  \n",
       "Ve Ben                       245195               4  \n",
       "Ölsem Yeridir                232133               4  \n",
       "Yokluğunda                   250961               4  "
      ]
     },
     "execution_count": 5,
     "metadata": {},
     "output_type": "execute_result"
    }
   ],
   "source": [
    "playlist_df.head()"
   ]
  },
  {
   "cell_type": "code",
   "execution_count": 6,
   "metadata": {
    "scrolled": true
   },
   "outputs": [
    {
     "data": {
      "text/html": [
       "<div>\n",
       "<style scoped>\n",
       "    .dataframe tbody tr th:only-of-type {\n",
       "        vertical-align: middle;\n",
       "    }\n",
       "\n",
       "    .dataframe tbody tr th {\n",
       "        vertical-align: top;\n",
       "    }\n",
       "\n",
       "    .dataframe thead th {\n",
       "        text-align: right;\n",
       "    }\n",
       "</style>\n",
       "<table border=\"1\" class=\"dataframe\">\n",
       "  <thead>\n",
       "    <tr style=\"text-align: right;\">\n",
       "      <th></th>\n",
       "      <th>id</th>\n",
       "      <th>acousticness</th>\n",
       "      <th>danceability</th>\n",
       "      <th>duration_ms</th>\n",
       "      <th>energy</th>\n",
       "      <th>instrumentalness</th>\n",
       "      <th>key</th>\n",
       "      <th>liveness</th>\n",
       "      <th>loudness</th>\n",
       "      <th>mode</th>\n",
       "      <th>speechiness</th>\n",
       "      <th>tempo</th>\n",
       "      <th>valence</th>\n",
       "    </tr>\n",
       "  </thead>\n",
       "  <tbody>\n",
       "    <tr>\n",
       "      <th>Beni Sen İnandır</th>\n",
       "      <td>1rY4UYyZ3PcuYgWIddkcnL</td>\n",
       "      <td>0.490</td>\n",
       "      <td>0.825</td>\n",
       "      <td>224717</td>\n",
       "      <td>0.400</td>\n",
       "      <td>0.000000</td>\n",
       "      <td>0</td>\n",
       "      <td>0.0981</td>\n",
       "      <td>-12.626</td>\n",
       "      <td>1</td>\n",
       "      <td>0.0456</td>\n",
       "      <td>106.000</td>\n",
       "      <td>0.838</td>\n",
       "    </tr>\n",
       "    <tr>\n",
       "      <th>Kendime Yalan Söyledim</th>\n",
       "      <td>5hYb9RIvqvk8J6mjMNL4pc</td>\n",
       "      <td>0.210</td>\n",
       "      <td>0.690</td>\n",
       "      <td>267080</td>\n",
       "      <td>0.731</td>\n",
       "      <td>0.000000</td>\n",
       "      <td>11</td>\n",
       "      <td>0.0611</td>\n",
       "      <td>-5.770</td>\n",
       "      <td>0</td>\n",
       "      <td>0.0317</td>\n",
       "      <td>126.992</td>\n",
       "      <td>0.580</td>\n",
       "    </tr>\n",
       "    <tr>\n",
       "      <th>Ve Ben</th>\n",
       "      <td>7GT8FbMFCvo0rcd9i4yeCO</td>\n",
       "      <td>0.595</td>\n",
       "      <td>0.399</td>\n",
       "      <td>245195</td>\n",
       "      <td>0.557</td>\n",
       "      <td>0.000002</td>\n",
       "      <td>8</td>\n",
       "      <td>0.1450</td>\n",
       "      <td>-6.203</td>\n",
       "      <td>0</td>\n",
       "      <td>0.0406</td>\n",
       "      <td>175.944</td>\n",
       "      <td>0.284</td>\n",
       "    </tr>\n",
       "    <tr>\n",
       "      <th>Ölsem Yeridir</th>\n",
       "      <td>7zn6VQuPR6aCLPRcZAA89R</td>\n",
       "      <td>0.372</td>\n",
       "      <td>0.604</td>\n",
       "      <td>232133</td>\n",
       "      <td>0.519</td>\n",
       "      <td>0.097200</td>\n",
       "      <td>2</td>\n",
       "      <td>0.0711</td>\n",
       "      <td>-6.501</td>\n",
       "      <td>0</td>\n",
       "      <td>0.0322</td>\n",
       "      <td>139.992</td>\n",
       "      <td>0.108</td>\n",
       "    </tr>\n",
       "    <tr>\n",
       "      <th>Yokluğunda</th>\n",
       "      <td>65lvjeOHd1ZDJKtRpB0c57</td>\n",
       "      <td>0.561</td>\n",
       "      <td>0.524</td>\n",
       "      <td>250961</td>\n",
       "      <td>0.487</td>\n",
       "      <td>0.000001</td>\n",
       "      <td>9</td>\n",
       "      <td>0.1710</td>\n",
       "      <td>-9.851</td>\n",
       "      <td>0</td>\n",
       "      <td>0.0365</td>\n",
       "      <td>139.969</td>\n",
       "      <td>0.183</td>\n",
       "    </tr>\n",
       "  </tbody>\n",
       "</table>\n",
       "</div>"
      ],
      "text/plain": [
       "                                            id  acousticness  danceability  \\\n",
       "Beni Sen İnandır        1rY4UYyZ3PcuYgWIddkcnL         0.490         0.825   \n",
       "Kendime Yalan Söyledim  5hYb9RIvqvk8J6mjMNL4pc         0.210         0.690   \n",
       "Ve Ben                  7GT8FbMFCvo0rcd9i4yeCO         0.595         0.399   \n",
       "Ölsem Yeridir           7zn6VQuPR6aCLPRcZAA89R         0.372         0.604   \n",
       "Yokluğunda              65lvjeOHd1ZDJKtRpB0c57         0.561         0.524   \n",
       "\n",
       "                        duration_ms  energy  instrumentalness  key  liveness  \\\n",
       "Beni Sen İnandır             224717   0.400          0.000000    0    0.0981   \n",
       "Kendime Yalan Söyledim       267080   0.731          0.000000   11    0.0611   \n",
       "Ve Ben                       245195   0.557          0.000002    8    0.1450   \n",
       "Ölsem Yeridir                232133   0.519          0.097200    2    0.0711   \n",
       "Yokluğunda                   250961   0.487          0.000001    9    0.1710   \n",
       "\n",
       "                        loudness  mode  speechiness    tempo  valence  \n",
       "Beni Sen İnandır         -12.626     1       0.0456  106.000    0.838  \n",
       "Kendime Yalan Söyledim    -5.770     0       0.0317  126.992    0.580  \n",
       "Ve Ben                    -6.203     0       0.0406  175.944    0.284  \n",
       "Ölsem Yeridir             -6.501     0       0.0322  139.992    0.108  \n",
       "Yokluğunda                -9.851     0       0.0365  139.969    0.183  "
      ]
     },
     "execution_count": 6,
     "metadata": {},
     "output_type": "execute_result"
    }
   ],
   "source": [
    "playlist_df=playlist_df[[\"id\", \"acousticness\", \"danceability\", \"duration_ms\", \n",
    "                         \"energy\", \"instrumentalness\",  \"key\", \"liveness\",\n",
    "                         \"loudness\", \"mode\", \"speechiness\", \"tempo\", \"valence\"]]\n",
    "playlist_df.head()"
   ]
  },
  {
   "cell_type": "code",
   "execution_count": 7,
   "metadata": {},
   "outputs": [],
   "source": [
    "# Generate a new column for recommended tracks\n",
    "# Set recommendation limit to the Playlist Length per track\n",
    "# Check documentation for  recommendations; https://beta.developer.spotify.com/documentation/web-api/reference/browse/get-recommendations/\n",
    "\n",
    "playlist_df['track_recs']=playlist_df['id'].apply(lambda x: [(track['id']) for track in \n",
    "                                                  sp.recommendations(seed_tracks=[x], limit=len(playlist_df))['tracks']])"
   ]
  },
  {
   "cell_type": "code",
   "execution_count": 8,
   "metadata": {
    "scrolled": true
   },
   "outputs": [
    {
     "name": "stdout",
     "output_type": "stream",
     "text": [
      "Sen İstanbul'sun - Gökhan Türkmen - https://open.spotify.com/track/0IECKI1BORaqZxdZefcp2V\n",
      "Kalbe Kördüğüm - Gece - https://open.spotify.com/track/5oRyjZfAgFGa1pPPmJ59I1\n",
      "Rivayet - Murat Dalkılıç - https://open.spotify.com/track/30z9AzFHAP0DHRFQ5DeLkl\n",
      "Love Me Back - Can Bonomo - https://open.spotify.com/track/6Sa2IXbpv1TTpYdBY0dJXH\n",
      "Yalan - Athena - https://open.spotify.com/track/0tiavZD1NiLw5pYj0QgZTe\n",
      "Olsun - Akustik - Pilli Bebek - https://open.spotify.com/track/3f2HxtN4gXJ41nbSswz73z\n",
      "Yine Yazı Bekleriz - Akustik - TNK - https://open.spotify.com/track/0d36vLXkq1QnhyEjrej82T\n",
      "Lafügüzaf - Gökhan Türkmen - https://open.spotify.com/track/3pZDZloBhUwlKA5O6JzXXa\n",
      "Yandım - Mazhar Alanson - https://open.spotify.com/track/7Fd3YKxq0teOqzBLKlYwtq\n",
      "Ben Öldüm - Gece - https://open.spotify.com/track/3de9GVjuFpwVM6uC5YLQS2\n",
      "Sen ve Ben - Mehmet Güreli - https://open.spotify.com/track/2IDfEOue7Cv4nDeVHUmfqw\n",
      "Senden Daha Güzel - Duman - https://open.spotify.com/track/2sLAykCWyB1VA5hXDjU59T\n",
      "Olsun - Gökhan Türkmen - https://open.spotify.com/track/6cjU6wucc7I7n3qfW8V1ZJ\n",
      "Saydım - Ogün Sanlısoy - https://open.spotify.com/track/2ieDWKASM63qtc9JSfNPKb\n",
      "Oyunbozan - mor ve ötesi - https://open.spotify.com/track/5DbtYgRjkUIapSm2Ilr81D\n",
      "Tın Tın - Adamlar - https://open.spotify.com/track/0lkScG8tQ7XXmRu7pnzKgu\n",
      "Bu Su Hiç Durmaz - Bülent Ortaçgil - https://open.spotify.com/track/3JHEa5MJYf6aHCWtvKLCKS\n",
      "Zalım - Ceylan Ertem - https://open.spotify.com/track/2tcTksk6qFbYSaZogGmgfO\n",
      "Ala Gözlerini Sevdiğim Dilber - Badem - https://open.spotify.com/track/394en8BAEakK9jXhTZUyhO\n",
      "Sesinde Aşk Var - Mahmut Orhan Remix - Yalın - https://open.spotify.com/track/76Ymq05g6cWiti5E159jGl\n",
      "Düşler Sokağı - Feridun Düzağaç - https://open.spotify.com/track/6yQOZoxzkgp9O2WHHdmzqe\n",
      "Olmaz - Malt - https://open.spotify.com/track/1dVDgLNqvGywhlWxQ7v4lx\n",
      "Sandal - Yüzyüzeyken Konuşuruz - https://open.spotify.com/track/7ouMGV7ScnMUGXKFGAGjXe\n",
      "Galiba Sevmiyorlar - Son Feci Bisiklet - https://open.spotify.com/track/3AtWz3xBxCLeJlt7CXuHEB\n",
      "Wrong Side Of The Road - Can Gox - https://open.spotify.com/track/6yTCMmDL2uw5MjCQPorRid\n"
     ]
    }
   ],
   "source": [
    "# Take a look at recommended tracks for the first track\n",
    "\n",
    "for track in sp.tracks(playlist_df['track_recs'][0])['tracks']:\n",
    "    print(track['name'] + ' - ' + track['artists'][0]['name'] + ' - ' + track['external_urls']['spotify'])"
   ]
  },
  {
   "cell_type": "code",
   "execution_count": 9,
   "metadata": {},
   "outputs": [],
   "source": [
    "# Create a new playlist for track recommendations\n",
    "playlist_recs = sp.user_playlist_create(username, \n",
    "                                        name='Recommended Songs for Playlist {}'.format(sourcePlaylist['name']))\n"
   ]
  },
  {
   "cell_type": "code",
   "execution_count": 10,
   "metadata": {},
   "outputs": [
    {
     "name": "stderr",
     "output_type": "stream",
     "text": [
      "C:\\Users\\sumeyra.bedir\\AppData\\Local\\Temp\\ipykernel_14028\\2236511718.py:3: DeprecationWarning: inspect.getargspec() is deprecated since Python 3.0, use inspect.signature() or inspect.getfullargspec()\n",
      "  inspect.getargspec(sp.user_playlist_create)\n"
     ]
    },
    {
     "data": {
      "text/plain": [
       "ArgSpec(args=['self', 'user', 'name', 'public', 'collaborative', 'description'], varargs=None, keywords=None, defaults=(True, False, ''))"
      ]
     },
     "execution_count": 10,
     "metadata": {},
     "output_type": "execute_result"
    }
   ],
   "source": [
    "# I would like to be sure the above function has a playlist description parameter, but it doesn't have.\n",
    "import inspect\n",
    "inspect.getargspec(sp.user_playlist_create)"
   ]
  },
  {
   "cell_type": "code",
   "execution_count": 11,
   "metadata": {},
   "outputs": [],
   "source": [
    "# Add each track's recommends to the new playlist\n",
    "for i in range(0,len(playlist_df)):\n",
    "    sp.user_playlist_add_tracks(username, playlist_recs['id'], playlist_df['track_recs'].values[i])"
   ]
  },
  {
   "cell_type": "code",
   "execution_count": 12,
   "metadata": {},
   "outputs": [
    {
     "name": "stdout",
     "output_type": "stream",
     "text": [
      "set()\n"
     ]
    }
   ],
   "source": [
    "# Check rec intersections of tracks\n",
    "track_recs = playlist_df['track_recs'].tolist()\n",
    "result = set(track_recs[0])\n",
    "for s in track_recs[1:]:\n",
    "    result.intersection_update(s)\n",
    "print (result)\n"
   ]
  },
  {
   "cell_type": "code",
   "execution_count": 13,
   "metadata": {},
   "outputs": [
    {
     "name": "stdout",
     "output_type": "stream",
     "text": [
      "None\n"
     ]
    }
   ],
   "source": [
    "# Change the playlist details\n",
    "results = sp.user_playlist_change_details(\n",
    "    username, playlist_recs['id'],\n",
    "    description='Playlist of recommended tracks for each track in the source playlist - Created using Spotify web API and Spotipy')\n",
    "print (results)\n",
    "# doesn't work as expected unfortunately."
   ]
  },
  {
   "cell_type": "code",
   "execution_count": 14,
   "metadata": {},
   "outputs": [
    {
     "name": "stderr",
     "output_type": "stream",
     "text": [
      "C:\\Users\\sumeyra.bedir\\AppData\\Local\\Temp\\ipykernel_14028\\1221403981.py:1: DeprecationWarning: inspect.getargspec() is deprecated since Python 3.0, use inspect.signature() or inspect.getfullargspec()\n",
      "  inspect.getargspec(sp.user_playlist_change_details)\n"
     ]
    },
    {
     "data": {
      "text/plain": [
       "ArgSpec(args=['self', 'user', 'playlist_id', 'name', 'public', 'collaborative', 'description'], varargs=None, keywords=None, defaults=(None, None, None, None))"
      ]
     },
     "execution_count": 14,
     "metadata": {},
     "output_type": "execute_result"
    }
   ],
   "source": [
    "inspect.getargspec(sp.user_playlist_change_details)"
   ]
  },
  {
   "cell_type": "code",
   "execution_count": null,
   "metadata": {},
   "outputs": [],
   "source": []
  }
 ],
 "metadata": {
  "kernelspec": {
   "display_name": "Python 3 (ipykernel)",
   "language": "python",
   "name": "python3"
  },
  "language_info": {
   "codemirror_mode": {
    "name": "ipython",
    "version": 3
   },
   "file_extension": ".py",
   "mimetype": "text/x-python",
   "name": "python",
   "nbconvert_exporter": "python",
   "pygments_lexer": "ipython3",
   "version": "3.9.12"
  }
 },
 "nbformat": 4,
 "nbformat_minor": 2
}
